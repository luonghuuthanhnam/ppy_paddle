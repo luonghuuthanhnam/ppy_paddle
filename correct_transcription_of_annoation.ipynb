{
 "cells": [
  {
   "cell_type": "code",
   "execution_count": 28,
   "metadata": {},
   "outputs": [],
   "source": [
    "import cv2\n",
    "import json\n",
    "import preprocess_img\n",
    "import LineOCR\n",
    "from PIL import Image\n",
    "from IPython.display import display\n",
    "import tqdm\n",
    "import os.path"
   ]
  },
  {
   "cell_type": "code",
   "execution_count": 3,
   "metadata": {},
   "outputs": [],
   "source": [
    "label_file = \"D:/PPYCode/Notebook_data_prepareration/data/test/Label.txt\"\n",
    "raw_annotation = open(label_file, \"r\", encoding = \"utf-8\").readlines()"
   ]
  },
  {
   "cell_type": "code",
   "execution_count": 4,
   "metadata": {},
   "outputs": [],
   "source": [
    "\n",
    "json_anno = {}\n",
    "for single_anno_file in raw_annotation:\n",
    "    f_name, anno = single_anno_file.split(\"\\t\")\n",
    "    anno = json.loads(anno)\n",
    "    json_anno[f_name] = anno\n",
    "list_file = list(json_anno.keys())"
   ]
  },
  {
   "cell_type": "code",
   "execution_count": 5,
   "metadata": {},
   "outputs": [],
   "source": [
    "preprocessImage = preprocess_img.PreprocessImage()\n",
    "lineDetAndOCR = LineOCR.ProcessImage(text_recognition_model_path = \"weights/ocr/ocr_221025.pth\")"
   ]
  },
  {
   "cell_type": "code",
   "execution_count": 6,
   "metadata": {},
   "outputs": [],
   "source": [
    "img_root_dir = \"D:/PPYCode/Notebook_data_prepareration/data/\""
   ]
  },
  {
   "cell_type": "code",
   "execution_count": 29,
   "metadata": {},
   "outputs": [],
   "source": [
    "new_json_anno = json_anno.copy()"
   ]
  },
  {
   "cell_type": "code",
   "execution_count": 30,
   "metadata": {},
   "outputs": [
    {
     "name": "stderr",
     "output_type": "stream",
     "text": [
      " 83%|████████▎ | 192/231 [04:41<00:55,  1.43s/it]"
     ]
    },
    {
     "name": "stdout",
     "output_type": "stream",
     "text": [
      "Cannot found: D:/PPYCode/Notebook_data_prepareration/data/test/199.jpeg\n"
     ]
    },
    {
     "name": "stderr",
     "output_type": "stream",
     "text": [
      "100%|██████████| 231/231 [05:26<00:00,  1.41s/it]"
     ]
    },
    {
     "name": "stdout",
     "output_type": "stream",
     "text": [
      "Cannot found: D:/PPYCode/Notebook_data_prepareration/data/test/206.jpeg\n",
      "Cannot found: D:/PPYCode/Notebook_data_prepareration/data/test/209.jpeg\n",
      "Cannot found: D:/PPYCode/Notebook_data_prepareration/data/test/218.jpeg\n",
      "Cannot found: D:/PPYCode/Notebook_data_prepareration/data/test/228.jpeg\n"
     ]
    },
    {
     "name": "stderr",
     "output_type": "stream",
     "text": [
      "\n"
     ]
    }
   ],
   "source": [
    "for each_file in tqdm.tqdm(list_file):\n",
    "    im_path = img_root_dir + each_file\n",
    "    if os.path.isfile(im_path):\n",
    "        raw_img = cv2.imread(im_path)\n",
    "        file_anno = json_anno[each_file]\n",
    "        for idx,each_line in enumerate(file_anno):\n",
    "            points = each_line[\"points\"]\n",
    "            transcription = each_line[\"transcription\"]\n",
    "            croped_img, _ = lineDetAndOCR.crop_line_v2(raw_img, points, True)\n",
    "            text, _ =new_transcription = lineDetAndOCR.individual_OCR(croped_img)\n",
    "            new_json_anno[each_file][idx][\"transcription\"] = text\n",
    "    else:\n",
    "        print(f\"Cannot found: {im_path}\")"
   ]
  },
  {
   "cell_type": "code",
   "execution_count": 33,
   "metadata": {},
   "outputs": [
    {
     "name": "stderr",
     "output_type": "stream",
     "text": [
      "100%|██████████| 231/231 [00:00<00:00, 5080.81it/s]\n"
     ]
    }
   ],
   "source": [
    "lines = []\n",
    "for each_file in tqdm.tqdm(list_file):\n",
    "    im_path = img_root_dir + each_file\n",
    "    if os.path.isfile(im_path):\n",
    "        file_anno = json_anno[each_file]\n",
    "        line = f\"{each_file}\\t{str(file_anno)}\"\n",
    "        lines.append(line)\n"
   ]
  },
  {
   "cell_type": "code",
   "execution_count": 35,
   "metadata": {},
   "outputs": [],
   "source": [
    "with open(\"corrected_label.txt\", \"w\", encoding=\"utf-8\") as f:\n",
    "    f.writelines(\"\\n\".join(lines))"
   ]
  },
  {
   "cell_type": "code",
   "execution_count": null,
   "metadata": {},
   "outputs": [],
   "source": []
  }
 ],
 "metadata": {
  "kernelspec": {
   "display_name": "Python 3.9.12 ('base')",
   "language": "python",
   "name": "python3"
  },
  "language_info": {
   "codemirror_mode": {
    "name": "ipython",
    "version": 3
   },
   "file_extension": ".py",
   "mimetype": "text/x-python",
   "name": "python",
   "nbconvert_exporter": "python",
   "pygments_lexer": "ipython3",
   "version": "3.9.12"
  },
  "orig_nbformat": 4,
  "vscode": {
   "interpreter": {
    "hash": "cc5644fd2b52d511b211cf140a1e1d228fa8006a12c8d99adabf32e3d6df441d"
   }
  }
 },
 "nbformat": 4,
 "nbformat_minor": 2
}
