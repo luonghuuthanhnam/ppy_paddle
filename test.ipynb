{
 "cells": [
  {
   "cell_type": "code",
   "execution_count": null,
   "metadata": {},
   "outputs": [],
   "source": [
    "from vietocr.tool.predictor import Predictor\n",
    "from vietocr.tool.config import Cfg\n",
    "import PIL\n",
    "from paddleocr import PaddleOCR,draw_ocr\n",
    "from PIL import Image\n",
    "import cv2\n",
    "import numpy as np\n",
    "from PredLineDet import LineDetInfer\n",
    "from IPython.display import display\n",
    "\n",
    "# config = Cfg.load_config_from_name(\"vgg_seq2seq\")\n",
    "# config.save(\"default_vgg_seq2seq_config.yml\")\n",
    "class ProcessImage():\n",
    "    '''\n",
    "    pip install paddlepaddle-gpu -i https://mirror.baidu.com/pypi/simple\n",
    "    pip install \"paddleocr>=2.0.1\"\n",
    "    pip uninstall imgaug\n",
    "    pip install imgaug==0.4.0\n",
    "    pip install --quiet vietocr\n",
    "    '''\n",
    "    def __init__(self,\n",
    "                 detection_model_path = \"/content/drive/MyDrive/PPY/DischargePaper/LineDetection/Paddle/Pretrained/exported_det_model_221011/\",\n",
    "                 text_recognition_model_config_file = \"/content/default_vgg_seq2seq_config.yml\",\n",
    "                 text_recognition_model_path = \"/content/drive/MyDrive/PPY/DischargePaper/OCR/model/line_ocr_220930_3.pth\"):\n",
    "        # self.line_detector = PaddleOCR(use_angle_cls=True, lang='en', det_model_dir = detection_model_path, use_gpu = True, det_algorithm=\"PSE\")\n",
    "        self.line_detector = LineDetInfer(det_model_dir = \"PaddleOCR/pretrained_models/exported_det_model_221011/\")\n",
    "        # config = Cfg.load_config_from_file(text_recognition_model_config_file)\n",
    "        config = Cfg.load_config_from_name(\"vgg_seq2seq\")\n",
    "        config.weights = text_recognition_model_path\n",
    "        self.text_recognizer = Predictor(config)\n",
    "    \n",
    "\n",
    "    def text_line_equalization(self, image):\n",
    "        \"\"\"\n",
    "        Doesn't matter about the type of image. You can put into this function any type of image (PIL or CV2).\n",
    "        \"\"\"\n",
    "        is_type_pil = True\n",
    "        if type(image) == np.ndarray:\n",
    "            is_type_pil = False\n",
    "            image_cv2 = image\n",
    "        else:\n",
    "            image_cv2 = cv2.cvtColor(np.array(image), cv2.COLOR_RGB2BGR)\n",
    "\n",
    "        image_gray = cv2.cvtColor(image_cv2, cv2.COLOR_BGR2GRAY)\n",
    "        clahe = cv2.createCLAHE(clipLimit=2.0, tileGridSize=(2, 2))\n",
    "        equalized_image = clahe.apply(image_gray)\n",
    "        image_cv2 = cv2.cvtColor(equalized_image, cv2.COLOR_GRAY2BGR)\n",
    "\n",
    "        if is_type_pil:\n",
    "            image_pil = Image.fromarray(cv2.cvtColor(image_cv2, cv2.COLOR_BGR2RGB))\n",
    "            return image_pil\n",
    "        else:\n",
    "            return image_cv2\n",
    "\n",
    "    def detect_lines(self, img, vis = False):\n",
    "        if type(img) != np.ndarray:\n",
    "            img = np.array(img)\n",
    "\n",
    "        # lines = self.line_detector.ocr(img, det=True, cls=False, rec=False)\n",
    "        lines = self.line_detector.line_det_infer()\n",
    "        isClosed = True\n",
    "        color = (0, 255, 0)\n",
    "        thickness = 2\n",
    "        if vis == True:\n",
    "            drawed_img = img.copy()\n",
    "            for line in lines:\n",
    "                pts = np.array(line)\n",
    "                drawed_img = cv2.polylines(drawed_img, np.int32([pts]), isClosed, color,thickness)\n",
    "            display(Image.fromarray(drawed_img))\n",
    "        return lines\n",
    "    \n",
    "    def extract_lines(self, lines, rotated_img, convert_gray = True):\n",
    "        extracted_dict = {\n",
    "            \"bbox\": [],\n",
    "            \"polygon\": [],\n",
    "            \"croped_pil_img\": [],\n",
    "        }\n",
    "        for line in lines:\n",
    "            original = Image.fromarray(rotated_img.copy())\n",
    "            polygon = []\n",
    "            for pair in line:\n",
    "                polygon.append(tuple(map(int,pair)))\n",
    "\n",
    "            list_x = [x for x,y in polygon]\n",
    "            list_y = [y for x,y in polygon]\n",
    "            xmin = min(list_x)\n",
    "            xmax = max(list_x)\n",
    "            ymin = min(list_y)\n",
    "            ymax = max(list_y)\n",
    "\n",
    "            mask = Image.new(\"L\", original.size, 0)\n",
    "            draw = ImageDraw.Draw(mask)\n",
    "            draw.polygon(polygon, fill=255, outline=None)\n",
    "            white =  Image.new(\"L\", original.size, 255)\n",
    "            result = Image.composite(original, white, mask)\n",
    "            croped = original.crop((int(xmin), int(ymin), int(xmax), int(ymax)))\n",
    "            if convert_gray == True:\n",
    "                croped = self.text_line_equalization(croped)\n",
    "            extracted_dict[\"polygon\"].append(polygon)\n",
    "            extracted_dict[\"bbox\"].append((int(xmin), int(ymin), int(xmax), int(ymax)))\n",
    "            extracted_dict[\"croped_pil_img\"].append(croped)\n",
    "        return extracted_dict\n",
    "\n",
    "    def recognize_text(self, extracted_dict):\n",
    "        data_len = len(extracted_dict[\"polygon\"])\n",
    "        print(data_len)\n",
    "        extracted_dict[\"text\"] = [\"\"]*data_len\n",
    "        extracted_dict[\"ocr_score\"] = [0.]*data_len\n",
    "        for i in range(data_len):\n",
    "            croped = extracted_dict[\"croped_pil_img\"][i]\n",
    "            # croped = self.text_line_equalization(croped)\n",
    "            text, prob = self.text_recognizer.predict(croped, return_prob=True)\n",
    "            extracted_dict[\"text\"][i] = text\n",
    "            extracted_dict[\"ocr_score\"][i] = prob\n",
    "        return extracted_dict\n",
    "\n",
    "    def begin_recognize_text(self, img):\n",
    "        lines = self.detect_lines(img)\n",
    "        extracted_dict = self.extract_lines(lines,img)\n",
    "        extracted_dict = self.recognize_text(extracted_dict)\n",
    "        return extracted_dict\n"
   ]
  },
  {
   "cell_type": "code",
   "execution_count": 9,
   "metadata": {},
   "outputs": [],
   "source": [
    "import PredLineDet"
   ]
  },
  {
   "cell_type": "code",
   "execution_count": 18,
   "metadata": {},
   "outputs": [
    {
     "data": {
      "text/plain": [
       "<module 'PredLineDet' from 'd:\\\\PPYCode\\\\OCR\\\\ppy_paddle\\\\PredLineDet.py'>"
      ]
     },
     "execution_count": 18,
     "metadata": {},
     "output_type": "execute_result"
    }
   ],
   "source": [
    "import importlib\n",
    "importlib.reload(PredLineDet)"
   ]
  },
  {
   "cell_type": "code",
   "execution_count": 19,
   "metadata": {},
   "outputs": [
    {
     "name": "stdout",
     "output_type": "stream",
     "text": [
      "[2022/10/17 09:22:07] ppocr INFO: The predict time of imgs_test\\test3.jpg: 0.3867826461791992\n",
      "[2022/10/17 09:22:07] ppocr INFO: The predict time of imgs_test\\test3.jpg: 0.3867826461791992\n"
     ]
    }
   ],
   "source": [
    "lineDetInfer = PredLineDet.LineDetInfer()\n",
    "lines, t = lineDetInfer.line_det_infer(r\"imgs_test\\test3.jpg\")"
   ]
  },
  {
   "cell_type": "code",
   "execution_count": 20,
   "metadata": {},
   "outputs": [
    {
     "ename": "UnicodeEncodeError",
     "evalue": "'charmap' codec can't encode characters in position 4-5: character maps to <undefined>",
     "output_type": "error",
     "traceback": [
      "\u001b[1;31m---------------------------------------------------------------------------\u001b[0m",
      "\u001b[1;31mUnicodeEncodeError\u001b[0m                        Traceback (most recent call last)",
      "\u001b[1;32md:\\PPYCode\\OCR\\ppy_paddle\\test.ipynb Cell 5\u001b[0m in \u001b[0;36m<cell line: 2>\u001b[1;34m()\u001b[0m\n\u001b[0;32m      <a href='vscode-notebook-cell:/d%3A/PPYCode/OCR/ppy_paddle/test.ipynb#W3sZmlsZQ%3D%3D?line=0'>1</a>\u001b[0m \u001b[39mimport\u001b[39;00m \u001b[39mpreprocess_img\u001b[39;00m\n\u001b[1;32m----> <a href='vscode-notebook-cell:/d%3A/PPYCode/OCR/ppy_paddle/test.ipynb#W3sZmlsZQ%3D%3D?line=1'>2</a>\u001b[0m \u001b[39mimport\u001b[39;00m \u001b[39mLineOCR\u001b[39;00m\n",
      "File \u001b[1;32md:\\PPYCode\\OCR\\ppy_paddle\\LineOCR.py:13\u001b[0m, in \u001b[0;36m<module>\u001b[1;34m\u001b[0m\n\u001b[0;32m      9\u001b[0m \u001b[39mfrom\u001b[39;00m \u001b[39mIPython\u001b[39;00m\u001b[39m.\u001b[39;00m\u001b[39mdisplay\u001b[39;00m \u001b[39mimport\u001b[39;00m display\n\u001b[0;32m     12\u001b[0m config \u001b[39m=\u001b[39m Cfg\u001b[39m.\u001b[39mload_config_from_name(\u001b[39m\"\u001b[39m\u001b[39mvgg_seq2seq\u001b[39m\u001b[39m\"\u001b[39m)\n\u001b[1;32m---> 13\u001b[0m config\u001b[39m.\u001b[39;49msave(\u001b[39m\"\u001b[39;49m\u001b[39mdefault_vgg_seq2seq_config.yml\u001b[39;49m\u001b[39m\"\u001b[39;49m)\n\u001b[0;32m     14\u001b[0m \u001b[39mclass\u001b[39;00m \u001b[39mProcessImage\u001b[39;00m():\n\u001b[0;32m     15\u001b[0m     \u001b[39m'''\u001b[39;00m\n\u001b[0;32m     16\u001b[0m \u001b[39m    !python3 -m pip install paddlepaddle-gpu -i https://mirror.baidu.com/pypi/simple\u001b[39;00m\n\u001b[0;32m     17\u001b[0m \u001b[39m    !pip install \"paddleocr>=2.0.1\"\u001b[39;00m\n\u001b[1;32m   (...)\u001b[0m\n\u001b[0;32m     21\u001b[0m \u001b[39m    !pip install --quiet vietocr\u001b[39;00m\n\u001b[0;32m     22\u001b[0m \u001b[39m    '''\u001b[39;00m\n",
      "File \u001b[1;32mc:\\Users\\luong\\anaconda3\\lib\\site-packages\\vietocr\\tool\\config.py:39\u001b[0m, in \u001b[0;36mCfg.save\u001b[1;34m(self, fname)\u001b[0m\n\u001b[0;32m     37\u001b[0m \u001b[39mdef\u001b[39;00m \u001b[39msave\u001b[39m(\u001b[39mself\u001b[39m, fname):\n\u001b[0;32m     38\u001b[0m     \u001b[39mwith\u001b[39;00m \u001b[39mopen\u001b[39m(fname, \u001b[39m'\u001b[39m\u001b[39mw\u001b[39m\u001b[39m'\u001b[39m) \u001b[39mas\u001b[39;00m outfile:\n\u001b[1;32m---> 39\u001b[0m         yaml\u001b[39m.\u001b[39;49mdump(\u001b[39mdict\u001b[39;49m(\u001b[39mself\u001b[39;49m), outfile, default_flow_style\u001b[39m=\u001b[39;49m\u001b[39mFalse\u001b[39;49;00m, allow_unicode\u001b[39m=\u001b[39;49m\u001b[39mTrue\u001b[39;49;00m)\n",
      "File \u001b[1;32mc:\\Users\\luong\\anaconda3\\lib\\site-packages\\yaml\\__init__.py:253\u001b[0m, in \u001b[0;36mdump\u001b[1;34m(data, stream, Dumper, **kwds)\u001b[0m\n\u001b[0;32m    248\u001b[0m \u001b[39mdef\u001b[39;00m \u001b[39mdump\u001b[39m(data, stream\u001b[39m=\u001b[39m\u001b[39mNone\u001b[39;00m, Dumper\u001b[39m=\u001b[39mDumper, \u001b[39m*\u001b[39m\u001b[39m*\u001b[39mkwds):\n\u001b[0;32m    249\u001b[0m     \u001b[39m\"\"\"\u001b[39;00m\n\u001b[0;32m    250\u001b[0m \u001b[39m    Serialize a Python object into a YAML stream.\u001b[39;00m\n\u001b[0;32m    251\u001b[0m \u001b[39m    If stream is None, return the produced string instead.\u001b[39;00m\n\u001b[0;32m    252\u001b[0m \u001b[39m    \"\"\"\u001b[39;00m\n\u001b[1;32m--> 253\u001b[0m     \u001b[39mreturn\u001b[39;00m dump_all([data], stream, Dumper\u001b[39m=\u001b[39mDumper, \u001b[39m*\u001b[39m\u001b[39m*\u001b[39mkwds)\n",
      "File \u001b[1;32mc:\\Users\\luong\\anaconda3\\lib\\site-packages\\yaml\\__init__.py:241\u001b[0m, in \u001b[0;36mdump_all\u001b[1;34m(documents, stream, Dumper, default_style, default_flow_style, canonical, indent, width, allow_unicode, line_break, encoding, explicit_start, explicit_end, version, tags, sort_keys)\u001b[0m\n\u001b[0;32m    239\u001b[0m     dumper\u001b[39m.\u001b[39mopen()\n\u001b[0;32m    240\u001b[0m     \u001b[39mfor\u001b[39;00m data \u001b[39min\u001b[39;00m documents:\n\u001b[1;32m--> 241\u001b[0m         dumper\u001b[39m.\u001b[39;49mrepresent(data)\n\u001b[0;32m    242\u001b[0m     dumper\u001b[39m.\u001b[39mclose()\n\u001b[0;32m    243\u001b[0m \u001b[39mfinally\u001b[39;00m:\n",
      "File \u001b[1;32mc:\\Users\\luong\\anaconda3\\lib\\site-packages\\yaml\\representer.py:28\u001b[0m, in \u001b[0;36mBaseRepresenter.represent\u001b[1;34m(self, data)\u001b[0m\n\u001b[0;32m     26\u001b[0m \u001b[39mdef\u001b[39;00m \u001b[39mrepresent\u001b[39m(\u001b[39mself\u001b[39m, data):\n\u001b[0;32m     27\u001b[0m     node \u001b[39m=\u001b[39m \u001b[39mself\u001b[39m\u001b[39m.\u001b[39mrepresent_data(data)\n\u001b[1;32m---> 28\u001b[0m     \u001b[39mself\u001b[39;49m\u001b[39m.\u001b[39;49mserialize(node)\n\u001b[0;32m     29\u001b[0m     \u001b[39mself\u001b[39m\u001b[39m.\u001b[39mrepresented_objects \u001b[39m=\u001b[39m {}\n\u001b[0;32m     30\u001b[0m     \u001b[39mself\u001b[39m\u001b[39m.\u001b[39mobject_keeper \u001b[39m=\u001b[39m []\n",
      "File \u001b[1;32mc:\\Users\\luong\\anaconda3\\lib\\site-packages\\yaml\\serializer.py:54\u001b[0m, in \u001b[0;36mSerializer.serialize\u001b[1;34m(self, node)\u001b[0m\n\u001b[0;32m     51\u001b[0m \u001b[39mself\u001b[39m\u001b[39m.\u001b[39memit(DocumentStartEvent(explicit\u001b[39m=\u001b[39m\u001b[39mself\u001b[39m\u001b[39m.\u001b[39muse_explicit_start,\n\u001b[0;32m     52\u001b[0m     version\u001b[39m=\u001b[39m\u001b[39mself\u001b[39m\u001b[39m.\u001b[39muse_version, tags\u001b[39m=\u001b[39m\u001b[39mself\u001b[39m\u001b[39m.\u001b[39muse_tags))\n\u001b[0;32m     53\u001b[0m \u001b[39mself\u001b[39m\u001b[39m.\u001b[39manchor_node(node)\n\u001b[1;32m---> 54\u001b[0m \u001b[39mself\u001b[39;49m\u001b[39m.\u001b[39;49mserialize_node(node, \u001b[39mNone\u001b[39;49;00m, \u001b[39mNone\u001b[39;49;00m)\n\u001b[0;32m     55\u001b[0m \u001b[39mself\u001b[39m\u001b[39m.\u001b[39memit(DocumentEndEvent(explicit\u001b[39m=\u001b[39m\u001b[39mself\u001b[39m\u001b[39m.\u001b[39muse_explicit_end))\n\u001b[0;32m     56\u001b[0m \u001b[39mself\u001b[39m\u001b[39m.\u001b[39mserialized_nodes \u001b[39m=\u001b[39m {}\n",
      "File \u001b[1;32mc:\\Users\\luong\\anaconda3\\lib\\site-packages\\yaml\\serializer.py:108\u001b[0m, in \u001b[0;36mSerializer.serialize_node\u001b[1;34m(self, node, parent, index)\u001b[0m\n\u001b[0;32m    106\u001b[0m     \u001b[39mfor\u001b[39;00m key, value \u001b[39min\u001b[39;00m node\u001b[39m.\u001b[39mvalue:\n\u001b[0;32m    107\u001b[0m         \u001b[39mself\u001b[39m\u001b[39m.\u001b[39mserialize_node(key, node, \u001b[39mNone\u001b[39;00m)\n\u001b[1;32m--> 108\u001b[0m         \u001b[39mself\u001b[39;49m\u001b[39m.\u001b[39;49mserialize_node(value, node, key)\n\u001b[0;32m    109\u001b[0m     \u001b[39mself\u001b[39m\u001b[39m.\u001b[39memit(MappingEndEvent())\n\u001b[0;32m    110\u001b[0m \u001b[39mself\u001b[39m\u001b[39m.\u001b[39mascend_resolver()\n",
      "File \u001b[1;32mc:\\Users\\luong\\anaconda3\\lib\\site-packages\\yaml\\serializer.py:89\u001b[0m, in \u001b[0;36mSerializer.serialize_node\u001b[1;34m(self, node, parent, index)\u001b[0m\n\u001b[0;32m     87\u001b[0m     default_tag \u001b[39m=\u001b[39m \u001b[39mself\u001b[39m\u001b[39m.\u001b[39mresolve(ScalarNode, node\u001b[39m.\u001b[39mvalue, (\u001b[39mFalse\u001b[39;00m, \u001b[39mTrue\u001b[39;00m))\n\u001b[0;32m     88\u001b[0m     implicit \u001b[39m=\u001b[39m (node\u001b[39m.\u001b[39mtag \u001b[39m==\u001b[39m detected_tag), (node\u001b[39m.\u001b[39mtag \u001b[39m==\u001b[39m default_tag)\n\u001b[1;32m---> 89\u001b[0m     \u001b[39mself\u001b[39;49m\u001b[39m.\u001b[39;49memit(ScalarEvent(alias, node\u001b[39m.\u001b[39;49mtag, implicit, node\u001b[39m.\u001b[39;49mvalue,\n\u001b[0;32m     90\u001b[0m         style\u001b[39m=\u001b[39;49mnode\u001b[39m.\u001b[39;49mstyle))\n\u001b[0;32m     91\u001b[0m \u001b[39melif\u001b[39;00m \u001b[39misinstance\u001b[39m(node, SequenceNode):\n\u001b[0;32m     92\u001b[0m     implicit \u001b[39m=\u001b[39m (node\u001b[39m.\u001b[39mtag\n\u001b[0;32m     93\u001b[0m                 \u001b[39m==\u001b[39m \u001b[39mself\u001b[39m\u001b[39m.\u001b[39mresolve(SequenceNode, node\u001b[39m.\u001b[39mvalue, \u001b[39mTrue\u001b[39;00m))\n",
      "File \u001b[1;32mc:\\Users\\luong\\anaconda3\\lib\\site-packages\\yaml\\emitter.py:115\u001b[0m, in \u001b[0;36mEmitter.emit\u001b[1;34m(self, event)\u001b[0m\n\u001b[0;32m    113\u001b[0m \u001b[39mwhile\u001b[39;00m \u001b[39mnot\u001b[39;00m \u001b[39mself\u001b[39m\u001b[39m.\u001b[39mneed_more_events():\n\u001b[0;32m    114\u001b[0m     \u001b[39mself\u001b[39m\u001b[39m.\u001b[39mevent \u001b[39m=\u001b[39m \u001b[39mself\u001b[39m\u001b[39m.\u001b[39mevents\u001b[39m.\u001b[39mpop(\u001b[39m0\u001b[39m)\n\u001b[1;32m--> 115\u001b[0m     \u001b[39mself\u001b[39;49m\u001b[39m.\u001b[39;49mstate()\n\u001b[0;32m    116\u001b[0m     \u001b[39mself\u001b[39m\u001b[39m.\u001b[39mevent \u001b[39m=\u001b[39m \u001b[39mNone\u001b[39;00m\n",
      "File \u001b[1;32mc:\\Users\\luong\\anaconda3\\lib\\site-packages\\yaml\\emitter.py:412\u001b[0m, in \u001b[0;36mEmitter.expect_block_mapping_simple_value\u001b[1;34m(self)\u001b[0m\n\u001b[0;32m    410\u001b[0m \u001b[39mself\u001b[39m\u001b[39m.\u001b[39mwrite_indicator(\u001b[39m'\u001b[39m\u001b[39m:\u001b[39m\u001b[39m'\u001b[39m, \u001b[39mFalse\u001b[39;00m)\n\u001b[0;32m    411\u001b[0m \u001b[39mself\u001b[39m\u001b[39m.\u001b[39mstates\u001b[39m.\u001b[39mappend(\u001b[39mself\u001b[39m\u001b[39m.\u001b[39mexpect_block_mapping_key)\n\u001b[1;32m--> 412\u001b[0m \u001b[39mself\u001b[39;49m\u001b[39m.\u001b[39;49mexpect_node(mapping\u001b[39m=\u001b[39;49m\u001b[39mTrue\u001b[39;49;00m)\n",
      "File \u001b[1;32mc:\\Users\\luong\\anaconda3\\lib\\site-packages\\yaml\\emitter.py:244\u001b[0m, in \u001b[0;36mEmitter.expect_node\u001b[1;34m(self, root, sequence, mapping, simple_key)\u001b[0m\n\u001b[0;32m    242\u001b[0m \u001b[39mself\u001b[39m\u001b[39m.\u001b[39mprocess_tag()\n\u001b[0;32m    243\u001b[0m \u001b[39mif\u001b[39;00m \u001b[39misinstance\u001b[39m(\u001b[39mself\u001b[39m\u001b[39m.\u001b[39mevent, ScalarEvent):\n\u001b[1;32m--> 244\u001b[0m     \u001b[39mself\u001b[39;49m\u001b[39m.\u001b[39;49mexpect_scalar()\n\u001b[0;32m    245\u001b[0m \u001b[39melif\u001b[39;00m \u001b[39misinstance\u001b[39m(\u001b[39mself\u001b[39m\u001b[39m.\u001b[39mevent, SequenceStartEvent):\n\u001b[0;32m    246\u001b[0m     \u001b[39mif\u001b[39;00m \u001b[39mself\u001b[39m\u001b[39m.\u001b[39mflow_level \u001b[39mor\u001b[39;00m \u001b[39mself\u001b[39m\u001b[39m.\u001b[39mcanonical \u001b[39mor\u001b[39;00m \u001b[39mself\u001b[39m\u001b[39m.\u001b[39mevent\u001b[39m.\u001b[39mflow_style   \\\n\u001b[0;32m    247\u001b[0m             \u001b[39mor\u001b[39;00m \u001b[39mself\u001b[39m\u001b[39m.\u001b[39mcheck_empty_sequence():\n",
      "File \u001b[1;32mc:\\Users\\luong\\anaconda3\\lib\\site-packages\\yaml\\emitter.py:268\u001b[0m, in \u001b[0;36mEmitter.expect_scalar\u001b[1;34m(self)\u001b[0m\n\u001b[0;32m    266\u001b[0m \u001b[39mdef\u001b[39;00m \u001b[39mexpect_scalar\u001b[39m(\u001b[39mself\u001b[39m):\n\u001b[0;32m    267\u001b[0m     \u001b[39mself\u001b[39m\u001b[39m.\u001b[39mincrease_indent(flow\u001b[39m=\u001b[39m\u001b[39mTrue\u001b[39;00m)\n\u001b[1;32m--> 268\u001b[0m     \u001b[39mself\u001b[39;49m\u001b[39m.\u001b[39;49mprocess_scalar()\n\u001b[0;32m    269\u001b[0m     \u001b[39mself\u001b[39m\u001b[39m.\u001b[39mindent \u001b[39m=\u001b[39m \u001b[39mself\u001b[39m\u001b[39m.\u001b[39mindents\u001b[39m.\u001b[39mpop()\n\u001b[0;32m    270\u001b[0m     \u001b[39mself\u001b[39m\u001b[39m.\u001b[39mstate \u001b[39m=\u001b[39m \u001b[39mself\u001b[39m\u001b[39m.\u001b[39mstates\u001b[39m.\u001b[39mpop()\n",
      "File \u001b[1;32mc:\\Users\\luong\\anaconda3\\lib\\site-packages\\yaml\\emitter.py:527\u001b[0m, in \u001b[0;36mEmitter.process_scalar\u001b[1;34m(self)\u001b[0m\n\u001b[0;32m    525\u001b[0m     \u001b[39mself\u001b[39m\u001b[39m.\u001b[39mwrite_double_quoted(\u001b[39mself\u001b[39m\u001b[39m.\u001b[39manalysis\u001b[39m.\u001b[39mscalar, split)\n\u001b[0;32m    526\u001b[0m \u001b[39melif\u001b[39;00m \u001b[39mself\u001b[39m\u001b[39m.\u001b[39mstyle \u001b[39m==\u001b[39m \u001b[39m'\u001b[39m\u001b[39m\\'\u001b[39;00m\u001b[39m'\u001b[39m:\n\u001b[1;32m--> 527\u001b[0m     \u001b[39mself\u001b[39;49m\u001b[39m.\u001b[39;49mwrite_single_quoted(\u001b[39mself\u001b[39;49m\u001b[39m.\u001b[39;49manalysis\u001b[39m.\u001b[39;49mscalar, split)\n\u001b[0;32m    528\u001b[0m \u001b[39melif\u001b[39;00m \u001b[39mself\u001b[39m\u001b[39m.\u001b[39mstyle \u001b[39m==\u001b[39m \u001b[39m'\u001b[39m\u001b[39m>\u001b[39m\u001b[39m'\u001b[39m:\n\u001b[0;32m    529\u001b[0m     \u001b[39mself\u001b[39m\u001b[39m.\u001b[39mwrite_folded(\u001b[39mself\u001b[39m\u001b[39m.\u001b[39manalysis\u001b[39m.\u001b[39mscalar)\n",
      "File \u001b[1;32mc:\\Users\\luong\\anaconda3\\lib\\site-packages\\yaml\\emitter.py:893\u001b[0m, in \u001b[0;36mEmitter.write_single_quoted\u001b[1;34m(self, text, split)\u001b[0m\n\u001b[0;32m    891\u001b[0m             \u001b[39mif\u001b[39;00m \u001b[39mself\u001b[39m\u001b[39m.\u001b[39mencoding:\n\u001b[0;32m    892\u001b[0m                 data \u001b[39m=\u001b[39m data\u001b[39m.\u001b[39mencode(\u001b[39mself\u001b[39m\u001b[39m.\u001b[39mencoding)\n\u001b[1;32m--> 893\u001b[0m             \u001b[39mself\u001b[39;49m\u001b[39m.\u001b[39;49mstream\u001b[39m.\u001b[39;49mwrite(data)\n\u001b[0;32m    894\u001b[0m             start \u001b[39m=\u001b[39m end\n\u001b[0;32m    895\u001b[0m \u001b[39mif\u001b[39;00m ch \u001b[39m==\u001b[39m \u001b[39m'\u001b[39m\u001b[39m\\'\u001b[39;00m\u001b[39m'\u001b[39m:\n",
      "File \u001b[1;32mc:\\Users\\luong\\anaconda3\\lib\\encodings\\cp1252.py:19\u001b[0m, in \u001b[0;36mIncrementalEncoder.encode\u001b[1;34m(self, input, final)\u001b[0m\n\u001b[0;32m     18\u001b[0m \u001b[39mdef\u001b[39;00m \u001b[39mencode\u001b[39m(\u001b[39mself\u001b[39m, \u001b[39minput\u001b[39m, final\u001b[39m=\u001b[39m\u001b[39mFalse\u001b[39;00m):\n\u001b[1;32m---> 19\u001b[0m     \u001b[39mreturn\u001b[39;00m codecs\u001b[39m.\u001b[39;49mcharmap_encode(\u001b[39minput\u001b[39;49m,\u001b[39mself\u001b[39;49m\u001b[39m.\u001b[39;49merrors,encoding_table)[\u001b[39m0\u001b[39m]\n",
      "\u001b[1;31mUnicodeEncodeError\u001b[0m: 'charmap' codec can't encode characters in position 4-5: character maps to <undefined>"
     ]
    }
   ],
   "source": [
    "import preprocess_img\n",
    "import LineOCR"
   ]
  },
  {
   "cell_type": "code",
   "execution_count": null,
   "metadata": {},
   "outputs": [],
   "source": []
  }
 ],
 "metadata": {
  "kernelspec": {
   "display_name": "Python 3.9.12 ('base')",
   "language": "python",
   "name": "python3"
  },
  "language_info": {
   "codemirror_mode": {
    "name": "ipython",
    "version": 3
   },
   "file_extension": ".py",
   "mimetype": "text/x-python",
   "name": "python",
   "nbconvert_exporter": "python",
   "pygments_lexer": "ipython3",
   "version": "3.9.12"
  },
  "orig_nbformat": 4,
  "vscode": {
   "interpreter": {
    "hash": "cc5644fd2b52d511b211cf140a1e1d228fa8006a12c8d99adabf32e3d6df441d"
   }
  }
 },
 "nbformat": 4,
 "nbformat_minor": 2
}
