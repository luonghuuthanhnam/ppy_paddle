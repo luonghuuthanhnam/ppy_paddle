{
 "cells": [
  {
   "cell_type": "code",
   "execution_count": 1,
   "metadata": {},
   "outputs": [
    {
     "name": "stderr",
     "output_type": "stream",
     "text": [
      "/home/ubuntu/anaconda3/envs/py39/lib/python3.9/site-packages/tqdm/auto.py:22: TqdmWarning: IProgress not found. Please update jupyter and ipywidgets. See https://ipywidgets.readthedocs.io/en/stable/user_install.html\n",
      "  from .autonotebook import tqdm as notebook_tqdm\n",
      "2022-11-03 04:04:35 | INFO | fairseq.tasks.text_to_speech | Please install tensorboardX: pip install tensorboardX\n"
     ]
    }
   ],
   "source": [
    "from fairseq.models.roberta import RobertaModel\n",
    "from fairseq.data.encoders.fastbpe import fastBPE\n",
    "from fairseq.data import Dictionary\n",
    "from fairseq.models.roberta import RobertaEncDecModel\n",
    "import torch\n",
    "import torch.nn.functional as F"
   ]
  },
  {
   "cell_type": "code",
   "execution_count": null,
   "metadata": {},
   "outputs": [],
   "source": []
  },
  {
   "cell_type": "code",
   "execution_count": 2,
   "metadata": {},
   "outputs": [
    {
     "name": "stderr",
     "output_type": "stream",
     "text": [
      "2022-11-03 04:04:39 | INFO | fairseq.file_utils | loading archive file weights/nlp/PhoBERT_base_fairseq\n",
      "2022-11-03 04:04:42 | INFO | fairseq.tasks.masked_lm | dictionary: 64000 types\n",
      "2022-11-03 04:04:45 | INFO | fairseq.models.roberta.model | {'_name': None, 'common': {'_name': None, 'no_progress_bar': False, 'log_interval': 1, 'log_format': 'simple', 'log_file': None, 'aim_repo': None, 'aim_run_hash': None, 'tensorboard_logdir': '', 'wandb_project': None, 'azureml_logging': False, 'seed': 1, 'cpu': False, 'tpu': False, 'bf16': False, 'memory_efficient_bf16': False, 'fp16': True, 'memory_efficient_fp16': False, 'fp16_no_flatten_grads': False, 'fp16_init_scale': 128, 'fp16_scale_window': None, 'fp16_scale_tolerance': 0.0, 'on_cpu_convert_precision': False, 'min_loss_scale': 0.0001, 'threshold_loss_scale': None, 'amp': False, 'amp_batch_retries': 2, 'amp_init_scale': 128, 'amp_scale_window': None, 'user_dir': None, 'empty_cache_freq': 0, 'all_gather_list_size': 16384, 'model_parallel_size': 1, 'quantization_config_path': None, 'profile': False, 'reset_logging': False, 'suppress_crashes': False, 'use_plasma_view': False, 'plasma_path': '/tmp/plasma'}, 'common_eval': {'_name': None, 'path': None, 'post_process': None, 'quiet': False, 'model_overrides': '{}', 'results_path': None}, 'distributed_training': {'_name': None, 'distributed_world_size': 4, 'distributed_num_procs': 1, 'distributed_rank': 0, 'distributed_backend': 'nccl', 'distributed_init_method': 'tcp://localhost:14220', 'distributed_port': -1, 'device_id': 0, 'distributed_no_spawn': False, 'ddp_backend': 'c10d', 'ddp_comm_hook': 'none', 'bucket_cap_mb': 25, 'fix_batches_to_gpus': False, 'find_unused_parameters': False, 'gradient_as_bucket_view': False, 'fast_stat_sync': False, 'heartbeat_timeout': -1, 'broadcast_buffers': False, 'slowmo_momentum': None, 'slowmo_base_algorithm': 'localsgd', 'localsgd_frequency': 3, 'nprocs_per_node': 1, 'pipeline_model_parallel': False, 'pipeline_balance': None, 'pipeline_devices': None, 'pipeline_chunks': 0, 'pipeline_encoder_balance': None, 'pipeline_encoder_devices': None, 'pipeline_decoder_balance': None, 'pipeline_decoder_devices': None, 'pipeline_checkpoint': 'never', 'zero_sharding': 'none', 'fp16': True, 'memory_efficient_fp16': False, 'tpu': True, 'no_reshard_after_forward': False, 'fp32_reduce_scatter': False, 'cpu_offload': False, 'use_sharded_state': False, 'not_fsdp_flatten_parameters': False}, 'dataset': {'_name': None, 'num_workers': 1, 'skip_invalid_size_inputs_valid_test': False, 'max_tokens': 4400, 'batch_size': None, 'required_batch_size_multiple': 8, 'required_seq_len_multiple': 1, 'dataset_impl': None, 'data_buffer_size': 10, 'train_subset': 'train', 'valid_subset': 'valid', 'combine_valid_subsets': None, 'ignore_unused_valid_subsets': False, 'validate_interval': 1, 'validate_interval_updates': 0, 'validate_after_updates': 0, 'fixed_validation_seed': None, 'disable_validation': False, 'max_tokens_valid': 4400, 'batch_size_valid': None, 'max_valid_steps': None, 'curriculum': 0, 'gen_subset': 'test', 'num_shards': 1, 'shard_id': 0, 'grouped_shuffling': False, 'update_epoch_batch_itr': True, 'update_ordered_indices_seed': False}, 'optimization': {'_name': None, 'max_epoch': 0, 'max_update': 540000, 'stop_time_hours': 0.0, 'clip_norm': 0.0, 'sentence_avg': False, 'update_freq': [16], 'lr': [0.0004, 0.0004, 1e-05], 'stop_min_lr': -1.0, 'use_bmuf': False, 'skip_remainder_batch': False}, 'checkpoint': {'_name': None, 'save_dir': 'roberta/roberta_base_vi', 'restore_file': 'checkpoint_last.pt', 'continue_once': None, 'finetune_from_model': None, 'reset_dataloader': False, 'reset_lr_scheduler': False, 'reset_meters': False, 'reset_optimizer': False, 'optimizer_overrides': '{}', 'save_interval': 1, 'save_interval_updates': 0, 'keep_interval_updates': -1, 'keep_interval_updates_pattern': -1, 'keep_last_epochs': -1, 'keep_best_checkpoints': -1, 'no_save': False, 'no_epoch_checkpoints': False, 'no_last_checkpoints': False, 'no_save_optimizer_state': False, 'best_checkpoint_metric': 'loss', 'maximize_best_checkpoint_metric': False, 'patience': -1, 'checkpoint_suffix': '', 'checkpoint_shard_count': 1, 'load_checkpoint_on_all_dp_ranks': False, 'write_checkpoints_asynchronously': False, 'model_parallel_size': 1}, 'bmuf': {'_name': None, 'block_lr': 1.0, 'block_momentum': 0.875, 'global_sync_iter': 50, 'warmup_iterations': 500, 'use_nbm': False, 'average_sync': False, 'distributed_world_size': 4}, 'generation': {'_name': None, 'beam': 5, 'nbest': 1, 'max_len_a': 0.0, 'max_len_b': 200, 'min_len': 1, 'match_source_len': False, 'unnormalized': False, 'no_early_stop': False, 'no_beamable_mm': False, 'lenpen': 1.0, 'unkpen': 0.0, 'replace_unk': None, 'sacrebleu': False, 'score_reference': False, 'prefix_size': 0, 'no_repeat_ngram_size': 0, 'sampling': False, 'sampling_topk': -1, 'sampling_topp': -1.0, 'constraints': None, 'temperature': 1.0, 'diverse_beam_groups': -1, 'diverse_beam_strength': 0.5, 'diversity_rate': -1.0, 'print_alignment': None, 'print_step': False, 'lm_path': None, 'lm_weight': 0.0, 'iter_decode_eos_penalty': 0.0, 'iter_decode_max_iter': 10, 'iter_decode_force_max_iter': False, 'iter_decode_with_beam': 1, 'iter_decode_with_external_reranker': False, 'retain_iter_history': False, 'retain_dropout': False, 'retain_dropout_modules': None, 'decoding_format': None, 'no_seed_provided': False, 'eos_token': None}, 'eval_lm': {'_name': None, 'output_word_probs': False, 'output_word_stats': False, 'context_window': 0, 'softmax_batch': 9223372036854775807}, 'interactive': {'_name': None, 'buffer_size': 0, 'input': '-'}, 'model': Namespace(no_progress_bar=False, log_interval=1, log_format='simple', tensorboard_logdir='', tbmf_wrapper=False, seed=1, cpu=False, fp16=True, memory_efficient_fp16=False, fp16_init_scale=128, fp16_scale_window=None, fp16_scale_tolerance=0.0, min_loss_scale=0.0001, threshold_loss_scale=None, user_dir=None, criterion='masked_lm', tokenizer=None, bpe='gpt2', optimizer='adam', lr_scheduler='polynomial_decay', task='masked_lm', num_workers=1, skip_invalid_size_inputs_valid_test=False, max_tokens=4400, max_sentences=16, required_batch_size_multiple=8, dataset_impl=None, train_subset='train', valid_subset='valid', validate_interval=1, disable_validation=False, max_tokens_valid=4400, max_sentences_valid=16, curriculum=0, distributed_world_size=4, distributed_rank=0, distributed_backend='nccl', distributed_init_method='tcp://localhost:14220', distributed_port=-1, device_id=0, distributed_no_spawn=False, ddp_backend='c10d', bucket_cap_mb=25, fix_batches_to_gpus=False, find_unused_parameters=False, arch='roberta_base', max_epoch=0, max_update=540000, clip_norm=0.0, sentence_avg=False, update_freq=[16], lr=[0.0004, 0.0004, 1e-05], use_bmuf=False, save_dir='roberta/roberta_base_vi', restore_file='checkpoint_last.pt', reset_dataloader=False, reset_lr_scheduler=False, reset_meters=False, reset_optimizer=False, optimizer_overrides='{}', save_interval=1, save_interval_updates=0, keep_interval_updates=-1, keep_last_epochs=-1, no_save=False, no_epoch_checkpoints=False, no_last_checkpoints=False, no_save_optimizer_state=False, best_checkpoint_metric='loss', maximize_best_checkpoint_metric=False, adam_betas='(0.9,0.98)', adam_eps=1e-06, weight_decay=0.01, force_anneal=None, warmup_updates=26900, end_learning_rate=0.0, power=1.0, total_num_update=540000, data='/home/ubuntu/ocr_discharge_paper/ppy_paddle/weights/nlp/PhoBERT_base_fairseq', sample_break_mode='complete', tokens_per_sample=256, mask_prob=0.15, leave_unmasked_prob=0.1, random_token_prob=0.1, freq_weighted_replacement=False, mask_whole_words=False, dropout=0.1, attention_dropout=0.1, encoder_layers=12, encoder_embed_dim=768, encoder_ffn_embed_dim=3072, encoder_attention_heads=12, activation_fn='gelu', pooler_activation_fn='tanh', activation_dropout=0.0, pooler_dropout=0.0, max_positions=256, load_checkpoint_heads=True, max_source_positions=256, max_target_positions=256, stop_min_lr=-1, encoder_layerdrop=0, encoder_layers_to_keep=None, quant_noise_pq=0, quant_noise_pq_block_size=8, quant_noise_scalar=0, spectral_norm_classification_head=False, min_params_to_wrap=100000000, mha_reg_scale_factor=0.0, ffn_reg_scale_factor=0.0, mha_heads_to_keep=-1, ffn_blocks_to_remove=-1, _name='roberta_base', no_token_positional_embeddings=False, encoder_learned_pos=True, layernorm_embedding=True, no_scale_embedding=True, encoder_normalize_before=False, untie_weights_roberta=False, adaptive_input=False), 'task': {'_name': 'masked_lm', 'data': '/home/ubuntu/ocr_discharge_paper/ppy_paddle/weights/nlp/PhoBERT_base_fairseq', 'sample_break_mode': 'complete', 'tokens_per_sample': 256, 'mask_prob': 0.15, 'leave_unmasked_prob': 0.1, 'random_token_prob': 0.1, 'freq_weighted_replacement': False, 'mask_whole_words': False, 'mask_multiple_length': 1, 'mask_stdev': 0.0, 'shorten_method': 'none', 'shorten_data_split_list': '', 'seed': 1, 'include_target_tokens': False}, 'criterion': {'_name': 'masked_lm', 'tpu': True}, 'optimizer': {'_name': 'adam', 'adam_betas': '(0.9,0.98)', 'adam_eps': 1e-06, 'weight_decay': 0.01, 'use_old_adam': False, 'fp16_adam_stats': False, 'tpu': True, 'lr': [0.0004, 0.0004, 1e-05]}, 'lr_scheduler': {'_name': 'polynomial_decay', 'warmup_updates': 26900, 'force_anneal': None, 'end_learning_rate': 0.0, 'power': 1.0, 'total_num_update': 540000.0, 'lr': [0.0004, 0.0004, 1e-05]}, 'scoring': None, 'bpe': {'_name': 'gpt2', 'gpt2_encoder_json': 'https://dl.fbaipublicfiles.com/fairseq/gpt2_bpe/encoder.json', 'gpt2_vocab_bpe': 'https://dl.fbaipublicfiles.com/fairseq/gpt2_bpe/vocab.bpe'}, 'tokenizer': None, 'ema': {'_name': None, 'store_ema': False, 'ema_decay': 0.9999, 'ema_start_update': 0, 'ema_seed_model': None, 'ema_update_freq': 1, 'ema_fp32': False}}\n",
      "Loading codes from weights/nlp/PhoBERT_base_fairseq/bpe.codes ...\n",
      "Read 64000 codes from the codes file.\n"
     ]
    }
   ],
   "source": [
    "path = \"weights/nlp\"\n",
    "num_classes = 13\n",
    "device = torch.device('cuda' if torch.cuda.is_available() else 'cpu')\n",
    "\n",
    "phoBERT_cls = RobertaModel.from_pretrained( path + '/PhoBERT_base_fairseq', checkpoint_file='model.pt')\n",
    "\n",
    "# Load BPE\n",
    "class BPE():\n",
    "  bpe_codes = path + '/PhoBERT_base_fairseq/bpe.codes'\n",
    "\n",
    "args = BPE()\n",
    "phoBERT_cls.bpe = fastBPE(args) #Incorporate the BPE encoder into PhoBERT\n",
    "\n",
    "# Add header cho classification với số lượng classes = 10\n",
    "phoBERT_cls.register_classification_head('new_task', num_classes=num_classes)\n",
    "\n",
    "\n"
   ]
  },
  {
   "cell_type": "code",
   "execution_count": null,
   "metadata": {},
   "outputs": [],
   "source": [
    "phoBERT_cls.load_state_dict(torch.load( path + \"/phoBert_trained_state_dict/phoBert_state_dict_221101.pth\"))\n",
    "phoBERT_cls.to(device)\n",
    "phoBERT_cls.eval()  # disable dropout (or leave in train mode to finetune"
   ]
  },
  {
   "cell_type": "code",
   "execution_count": 4,
   "metadata": {},
   "outputs": [],
   "source": [
    "id2label = ['BHYT', 'address', 'admission_dates', 'age', 'department', 'diagnose',\n",
    " 'discharge_dates', 'gender', 'hospital_name', 'note', 'patient_name',\n",
    " 'sign_date', 'treatment']"
   ]
  },
  {
   "cell_type": "code",
   "execution_count": 7,
   "metadata": {},
   "outputs": [
    {
     "name": "stdout",
     "output_type": "stream",
     "text": [
      "tensor(0.7205, device='cuda:0', grad_fn=<MaxBackward1>)\n",
      "hospital_name\n"
     ]
    }
   ],
   "source": [
    "tokens = 'TTYT Huyện Chư Sê'\n",
    "token_idxs = phoBERT_cls.encode(tokens)\n",
    "token_idxs.to(device)\n",
    "logprobs = phoBERT_cls.predict('new_task', token_idxs)  # tensor([[-1.1050, -1.0672, -1.1245]], grad_fn=<LogSoftmaxBackward>)\n",
    "output = F.softmax(logprobs, dim=-1)\n",
    "cls = output.argmax()\n",
    "print(output.max())\n",
    "print(id2label[cls])"
   ]
  },
  {
   "cell_type": "code",
   "execution_count": 8,
   "metadata": {},
   "outputs": [
    {
     "data": {
      "text/plain": [
       "tensor([    0,  4577,  2142, 13906,  2454,     2])"
      ]
     },
     "execution_count": 8,
     "metadata": {},
     "output_type": "execute_result"
    }
   ],
   "source": [
    "token_idxs"
   ]
  },
  {
   "cell_type": "code",
   "execution_count": 1,
   "metadata": {},
   "outputs": [],
   "source": [
    "import json"
   ]
  },
  {
   "cell_type": "code",
   "execution_count": 2,
   "metadata": {},
   "outputs": [],
   "source": [
    "json_data = json.load(open(\"docbase_output.json\"))"
   ]
  },
  {
   "cell_type": "code",
   "execution_count": 13,
   "metadata": {},
   "outputs": [
    {
     "data": {
      "text/plain": [
       "dict_keys(['info', 'pages', 'type'])"
      ]
     },
     "execution_count": 13,
     "metadata": {},
     "output_type": "execute_result"
    }
   ],
   "source": [
    "json_data[\"data\"][0].keys()"
   ]
  },
  {
   "cell_type": "code",
   "execution_count": 25,
   "metadata": {},
   "outputs": [
    {
     "data": {
      "text/plain": [
       "'038/120/'"
      ]
     },
     "execution_count": 25,
     "metadata": {},
     "output_type": "execute_result"
    }
   ],
   "source": [
    "json_data[\"data\"][0][\"info\"][\"pid\"]"
   ]
  },
  {
   "cell_type": "code",
   "execution_count": 21,
   "metadata": {},
   "outputs": [
    {
     "data": {
      "text/plain": [
       "dict_keys(['address', 'address_box', 'address_confidence', 'department', 'department_box', 'department_confidence', 'diagnose', 'diagnose_box', 'diagnose_confidence', 'gender', 'gender_box', 'gender_confidence', 'hospital_discharge_date', 'hospital_discharge_date_box', 'hospital_discharge_date_confidence', 'hospitalization_date', 'hospitalization_date_box', 'hospitalization_date_confidence', 'icd_10', 'image', 'image_seals', 'medical_facility', 'medical_facility_box', 'medical_facility_confidence', 'patient_name', 'patient_name_box', 'patient_name_confidence', 'pid', 'pid_box', 'pid_confidence', 'treatments', 'treatments_box', 'treatments_confidence', 'valid_seals', 'year_of_birth', 'year_of_birth_box', 'year_of_birth_confidence'])"
      ]
     },
     "execution_count": 21,
     "metadata": {},
     "output_type": "execute_result"
    }
   ],
   "source": [
    "json_data[\"data\"][0][\"info\"].keys()"
   ]
  },
  {
   "cell_type": "code",
   "execution_count": 29,
   "metadata": {},
   "outputs": [
    {
     "data": {
      "text/plain": [
       "dict_keys(['address', 'address_box', 'address_confidence', 'department', 'department_box', 'department_confidence', 'diagnose', 'diagnose_box', 'diagnose_confidence', 'gender', 'gender_box', 'gender_confidence', 'hospital_discharge_date', 'hospital_discharge_date_box', 'hospital_discharge_date_confidence', 'hospitalization_date', 'hospitalization_date_box', 'hospitalization_date_confidence', 'icd_10', 'image', 'image_seals', 'medical_facility', 'medical_facility_box', 'medical_facility_confidence', 'patient_name', 'patient_name_box', 'patient_name_confidence', 'pid', 'pid_box', 'pid_confidence', 'treatments', 'treatments_box', 'treatments_confidence', 'valid_seals', 'year_of_birth', 'year_of_birth_box', 'year_of_birth_confidence'])"
      ]
     },
     "execution_count": 29,
     "metadata": {},
     "output_type": "execute_result"
    }
   ],
   "source": [
    "json_data[\"data\"][0][\"info\"].keys()"
   ]
  },
  {
   "cell_type": "code",
   "execution_count": 27,
   "metadata": {},
   "outputs": [],
   "source": [
    "empty_result = {\n",
    "    \"data\": [\n",
    "        {\n",
    "        \"info\":\n",
    "            {\n",
    "                \"gender\": None,\n",
    "                \"gender_box\": [],\n",
    "                \"gender_confidence\": 0,\n",
    "                \n",
    "                \"hospital_discharge_date\": None,\n",
    "                \"hospital_discharge_date_box\": [],\n",
    "                \"hospital_discharge_date_confidence\": 0,\n",
    "                \n",
    "                \"hospitalization_date\": None,\n",
    "                \"hospitalization_date_box\": [],\n",
    "                \"hospitalization_date_confidence\": 0,\n",
    "                \n",
    "                \"icd_10\": [],\n",
    "                \n",
    "                \"medical_facility\": None,\n",
    "                \"medical_facility_box\": [],\n",
    "                \"medical_facility_confidence\": 0,\n",
    "                \n",
    "                \"patient_name\": None,\n",
    "                \"patient_name_box\": [],\n",
    "                \"patient_name_confidence\": 0,\n",
    "                \n",
    "                \"year_of_birth\": None,\n",
    "                \"year_of_birth_box\": [],\n",
    "                \"year_of_birth_confidence\": 0,\n",
    "                \n",
    "                \"image_seals\": \"UN_CHECKED\",\n",
    "\n",
    "            },\n",
    "        \"pages\": [],\n",
    "        \"type\": None,\n",
    "        },\n",
    "    ]\n",
    "}"
   ]
  },
  {
   "cell_type": "code",
   "execution_count": null,
   "metadata": {},
   "outputs": [],
   "source": []
  },
  {
   "cell_type": "code",
   "execution_count": 28,
   "metadata": {},
   "outputs": [
    {
     "data": {
      "text/plain": [
       "{'data': [{'info': {'gender': None,\n",
       "    'gender_box': [],\n",
       "    'gender_confidence': 0,\n",
       "    'hospital_discharge_date': None,\n",
       "    'hospital_discharge_date_box': [],\n",
       "    'hospital_discharge_date_confidence': 0,\n",
       "    'hospitalization_date': None,\n",
       "    'hospitalization_date_box': [],\n",
       "    'hospitalization_date_confidence': 0,\n",
       "    'icd_10': {},\n",
       "    'medical_facility': None,\n",
       "    'medical_facility_box': [],\n",
       "    'medical_facility_confidence': 0,\n",
       "    'patient_name': None,\n",
       "    'patient_name_box': [],\n",
       "    'patient_name_confidence': 0,\n",
       "    'year_of_birth': None,\n",
       "    'year_of_birth_box': [],\n",
       "    'year_of_birth_confidence': 0,\n",
       "    'date_of_birth': None,\n",
       "    'date_of_birth_box': [],\n",
       "    'date_of_birth_confidence': 0,\n",
       "    'age': None,\n",
       "    'age_box': [],\n",
       "    'age_confidence': 0,\n",
       "    'image_seals': 'NOTCHECK'},\n",
       "   'pages': [],\n",
       "   'type': None}]}"
      ]
     },
     "execution_count": 28,
     "metadata": {},
     "output_type": "execute_result"
    }
   ],
   "source": [
    "empty_result"
   ]
  },
  {
   "cell_type": "code",
   "execution_count": 3,
   "metadata": {},
   "outputs": [
    {
     "data": {
      "text/plain": [
       "{'data': [{'info': {'address': 'Xã Thọ Lâm Huyện Thọ Xuân Thanh Hóa',\n",
       "    'address_box': [262, 328, 702, 367],\n",
       "    'address_confidence': 0.9982713460922241,\n",
       "    'department': 'Khoa Truyền nhiễm',\n",
       "    'department_box': [106, 134, 309, 173],\n",
       "    'department_confidence': 0.997370719909668,\n",
       "    'diagnose': 'J20.9 Viêm phế quản cấp, không phân loại/ J02.9 Viêm họng cấp. không đặc hiệu',\n",
       "    'diagnose_box': [298, 428, 1203, 476],\n",
       "    'diagnose_confidence': 0.5862256288528442,\n",
       "    'gender': 'Nữ',\n",
       "    'gender_box': [1130, 228, 1172, 266],\n",
       "    'gender_confidence': 0.999955415725708,\n",
       "    'hospital_discharge_date': '15/07/2022',\n",
       "    'hospital_discharge_date_box': [461, 394, 756, 434],\n",
       "    'hospital_discharge_date_confidence': 0.9998311996459961,\n",
       "    'hospitalization_date': '12/07/2022',\n",
       "    'hospitalization_date_box': [465, 362, 765, 398],\n",
       "    'hospitalization_date_confidence': 0.9998764991760254,\n",
       "    'icd_10': [['J02.9', [779, 431, 840, 468], 0.9995610117912292],\n",
       "     ['J20.9', [298, 428, 360, 468], 0.9994231462478638]],\n",
       "    'image': '',\n",
       "    'image_seals': '/9j/4AAQSkZJRgABAQAAAQABAAD/2wBDAAgGBgcGBQgHBwcJCQgKDBQNDAsLDBkSEw8UHRofHh0a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\\nVeGdBkZ9KKKKLsXJFaWP/9k=\\n',\n",
       "    'medical_facility': 'BỆNH VIỆN ĐA KHOA HUYỆN THỌ XUÂN',\n",
       "    'medical_facility_box': [110, 106, 494, 143],\n",
       "    'medical_facility_confidence': 0.9850372672080994,\n",
       "    'patient_name': 'NGUYỄN THANH THỦY',\n",
       "    'patient_name_box': [349, 228, 647, 266],\n",
       "    'patient_name_confidence': 0.9996802806854248,\n",
       "    'pid': '038/120/',\n",
       "    'pid_box': [1073, 133, 1196, 165],\n",
       "    'pid_confidence': 0.9981424808502197,\n",
       "    'treatments': 'Điều trị nội khoa,',\n",
       "    'treatments_box': [366, 465, 547, 504],\n",
       "    'treatments_confidence': 0.9987462759017944,\n",
       "    'valid_seals': True,\n",
       "    'year_of_birth': '42',\n",
       "    'year_of_birth_box': [894, 228, 927, 266],\n",
       "    'year_of_birth_confidence': 0.9999666213989258},\n",
       "   'pages': [0],\n",
       "   'type': 'hospital_discharge_paper'}],\n",
       " 'errorCode': '0',\n",
       " 'errorMessage': 'Success'}"
      ]
     },
     "execution_count": 3,
     "metadata": {},
     "output_type": "execute_result"
    }
   ],
   "source": [
    "json_data"
   ]
  }
 ],
 "metadata": {
  "kernelspec": {
   "display_name": "Python 3.9.13 ('py39')",
   "language": "python",
   "name": "python3"
  },
  "language_info": {
   "codemirror_mode": {
    "name": "ipython",
    "version": 3
   },
   "file_extension": ".py",
   "mimetype": "text/x-python",
   "name": "python",
   "nbconvert_exporter": "python",
   "pygments_lexer": "ipython3",
   "version": "3.9.13"
  },
  "orig_nbformat": 4,
  "vscode": {
   "interpreter": {
    "hash": "31ffcf7a35e8fb622d3a4bd4bd659d058512ef6f478d0fb17b526c56291289f9"
   }
  }
 },
 "nbformat": 4,
 "nbformat_minor": 2
}
